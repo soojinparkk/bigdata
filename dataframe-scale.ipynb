{
 "cells": [
  {
   "cell_type": "markdown",
   "metadata": {},
   "source": [
    "# Scale"
   ]
  },
  {
   "cell_type": "code",
   "execution_count": 3,
   "metadata": {},
   "outputs": [
    {
     "data": {
      "text/html": [
       "<div>\n",
       "<style scoped>\n",
       "    .dataframe tbody tr th:only-of-type {\n",
       "        vertical-align: middle;\n",
       "    }\n",
       "\n",
       "    .dataframe tbody tr th {\n",
       "        vertical-align: top;\n",
       "    }\n",
       "\n",
       "    .dataframe thead th {\n",
       "        text-align: right;\n",
       "    }\n",
       "</style>\n",
       "<table border=\"1\" class=\"dataframe\">\n",
       "  <thead>\n",
       "    <tr style=\"text-align: right;\">\n",
       "      <th></th>\n",
       "      <th>Grades</th>\n",
       "    </tr>\n",
       "  </thead>\n",
       "  <tbody>\n",
       "    <tr>\n",
       "      <th>poor</th>\n",
       "      <td>D</td>\n",
       "    </tr>\n",
       "    <tr>\n",
       "      <th>ok</th>\n",
       "      <td>C-</td>\n",
       "    </tr>\n",
       "    <tr>\n",
       "      <th>ok</th>\n",
       "      <td>C+</td>\n",
       "    </tr>\n",
       "    <tr>\n",
       "      <th>good</th>\n",
       "      <td>B-</td>\n",
       "    </tr>\n",
       "    <tr>\n",
       "      <th>good</th>\n",
       "      <td>B</td>\n",
       "    </tr>\n",
       "    <tr>\n",
       "      <th>good</th>\n",
       "      <td>B+</td>\n",
       "    </tr>\n",
       "    <tr>\n",
       "      <th>excellent</th>\n",
       "      <td>A-</td>\n",
       "    </tr>\n",
       "    <tr>\n",
       "      <th>excellent</th>\n",
       "      <td>A</td>\n",
       "    </tr>\n",
       "    <tr>\n",
       "      <th>excellent</th>\n",
       "      <td>A+</td>\n",
       "    </tr>\n",
       "  </tbody>\n",
       "</table>\n",
       "</div>"
      ],
      "text/plain": [
       "          Grades\n",
       "poor           D\n",
       "ok            C-\n",
       "ok            C+\n",
       "good          B-\n",
       "good           B\n",
       "good          B+\n",
       "excellent     A-\n",
       "excellent      A\n",
       "excellent     A+"
      ]
     },
     "execution_count": 3,
     "metadata": {},
     "output_type": "execute_result"
    }
   ],
   "source": [
    "import pandas as pd\n",
    "\n",
    "df = pd.DataFrame(['D', 'C-', 'C+', 'B-', 'B', 'B+', 'A-', 'A', 'A+'],\n",
    "                 index = ['poor', 'ok', 'ok', 'good', 'good', 'good', 'excellent', 'excellent', 'excellent'])\n",
    "df.rename(columns={0:'Grades'}, inplace=True)\n",
    "df"
   ]
  },
  {
   "cell_type": "code",
   "execution_count": 5,
   "metadata": {},
   "outputs": [
    {
     "data": {
      "text/plain": [
       "poor     D\n",
       "ok      C-\n",
       "ok      C+\n",
       "good    B-\n",
       "good     B\n",
       "Name: Grades, dtype: category\n",
       "Categories (9, object): ['D', 'C-', 'C+', 'B-', ..., 'B+', 'A-', 'A', 'A+']"
      ]
     },
     "execution_count": 5,
     "metadata": {},
     "output_type": "execute_result"
    }
   ],
   "source": [
    "from pandas.api.types import CategoricalDtype\n",
    "\n",
    "# Nominal Scale -> 카테고리만 나눠줌\n",
    "# astype(): type 변경\n",
    "grades = df['Grades'].astype(CategoricalDtype(categories=['D', 'C-', 'C+', 'B-', 'B', 'B+', 'A-', 'A', 'A+']))\n",
    "grades.head()"
   ]
  },
  {
   "cell_type": "code",
   "execution_count": 6,
   "metadata": {},
   "outputs": [
    {
     "data": {
      "text/plain": [
       "poor          D\n",
       "ok           C-\n",
       "ok           C+\n",
       "good         B-\n",
       "good          B\n",
       "good         B+\n",
       "excellent    A-\n",
       "excellent     A\n",
       "excellent    A+\n",
       "Name: Grades, dtype: category\n",
       "Categories (9, object): ['D' < 'C-' < 'C+' < 'B-' ... 'B+' < 'A-' < 'A' < 'A+']"
      ]
     },
     "execution_count": 6,
     "metadata": {},
     "output_type": "execute_result"
    }
   ],
   "source": [
    "# Ordered Scale -> 순서대로\n",
    "grades = df['Grades'].astype(CategoricalDtype(categories=['D', 'C-', 'C+', 'B-', 'B', 'B+', 'A-', 'A', 'A+'], ordered=True))\n",
    "grades"
   ]
  },
  {
   "cell_type": "code",
   "execution_count": 8,
   "metadata": {},
   "outputs": [
    {
     "data": {
      "text/plain": [
       "poor         False\n",
       "ok           False\n",
       "ok           False\n",
       "good         False\n",
       "good         False\n",
       "good          True\n",
       "excellent     True\n",
       "excellent     True\n",
       "excellent     True\n",
       "Name: Grades, dtype: bool"
      ]
     },
     "execution_count": 8,
     "metadata": {},
     "output_type": "execute_result"
    }
   ],
   "source": [
    "grades > 'B'"
   ]
  },
  {
   "cell_type": "code",
   "execution_count": 9,
   "metadata": {},
   "outputs": [
    {
     "data": {
      "text/plain": [
       "0    168\n",
       "1    180\n",
       "2    174\n",
       "3    190\n",
       "4    185\n",
       "dtype: int64"
      ]
     },
     "execution_count": 9,
     "metadata": {},
     "output_type": "execute_result"
    }
   ],
   "source": [
    "# categorization of ratio scaled data\n",
    "s = pd.Series([168, 180, 174, 190, 185, 179, 181, 170, 175, 169, 182, 177, 180, 171])\n",
    "s.head()"
   ]
  },
  {
   "cell_type": "code",
   "execution_count": 10,
   "metadata": {},
   "outputs": [
    {
     "data": {
      "text/plain": [
       "0     (167.978, 175.333]\n",
       "1     (175.333, 182.667]\n",
       "2     (167.978, 175.333]\n",
       "3       (182.667, 190.0]\n",
       "4       (182.667, 190.0]\n",
       "5     (175.333, 182.667]\n",
       "6     (175.333, 182.667]\n",
       "7     (167.978, 175.333]\n",
       "8     (167.978, 175.333]\n",
       "9     (167.978, 175.333]\n",
       "10    (175.333, 182.667]\n",
       "11    (175.333, 182.667]\n",
       "12    (175.333, 182.667]\n",
       "13    (167.978, 175.333]\n",
       "dtype: category\n",
       "Categories (3, interval[float64]): [(167.978, 175.333] < (175.333, 182.667] < (182.667, 190.0]]"
      ]
     },
     "execution_count": 10,
     "metadata": {},
     "output_type": "execute_result"
    }
   ],
   "source": [
    "pd.cut(s, 3)"
   ]
  },
  {
   "cell_type": "code",
   "execution_count": 11,
   "metadata": {},
   "outputs": [
    {
     "data": {
      "text/plain": [
       "0      Small\n",
       "1     Medium\n",
       "2      Small\n",
       "3      Large\n",
       "4      Large\n",
       "5     Medium\n",
       "6     Medium\n",
       "7      Small\n",
       "8      Small\n",
       "9      Small\n",
       "10    Medium\n",
       "11    Medium\n",
       "12    Medium\n",
       "13     Small\n",
       "dtype: category\n",
       "Categories (3, object): ['Small' < 'Medium' < 'Large']"
      ]
     },
     "execution_count": 11,
     "metadata": {},
     "output_type": "execute_result"
    }
   ],
   "source": [
    "pd.cut(s, 3, labels = ['Small', 'Medium', 'Large'])"
   ]
  }
 ],
 "metadata": {
  "kernelspec": {
   "display_name": "Python 3",
   "language": "python",
   "name": "python3"
  },
  "language_info": {
   "codemirror_mode": {
    "name": "ipython",
    "version": 3
   },
   "file_extension": ".py",
   "mimetype": "text/x-python",
   "name": "python",
   "nbconvert_exporter": "python",
   "pygments_lexer": "ipython3",
   "version": "3.8.5"
  }
 },
 "nbformat": 4,
 "nbformat_minor": 4
}
