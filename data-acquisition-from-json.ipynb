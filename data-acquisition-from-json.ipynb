{
 "cells": [
  {
   "cell_type": "markdown",
   "metadata": {},
   "source": [
    "# Data Acquisition: From JSON Data"
   ]
  },
  {
   "cell_type": "code",
   "execution_count": 1,
   "metadata": {},
   "outputs": [],
   "source": [
    "import pandas as pd\n",
    "import json"
   ]
  },
  {
   "cell_type": "code",
   "execution_count": 2,
   "metadata": {},
   "outputs": [],
   "source": [
    "obj = \"\"\"\n",
    "{\n",
    "    \"dayOfWeek\": [\n",
    "        { \"Sunday\": 0 }, { \"Monday\": 1 }, { \"Tuesday\": 2 }, { \"Wednesday\": 3 },\n",
    "        { \"Thursday\": 4 }, { \"Friday\": 5 }, { \"Saturday\": 6 }\n",
    "    ]\n",
    "}\n",
    "\"\"\""
   ]
  },
  {
   "cell_type": "code",
   "execution_count": 3,
   "metadata": {},
   "outputs": [
    {
     "data": {
      "text/plain": [
       "{'dayOfWeek': [{'Sunday': 0},\n",
       "  {'Monday': 1},\n",
       "  {'Tuesday': 2},\n",
       "  {'Wednesday': 3},\n",
       "  {'Thursday': 4},\n",
       "  {'Friday': 5},\n",
       "  {'Saturday': 6}]}"
      ]
     },
     "execution_count": 3,
     "metadata": {},
     "output_type": "execute_result"
    }
   ],
   "source": [
    "json.loads(obj)"
   ]
  },
  {
   "cell_type": "code",
   "execution_count": 4,
   "metadata": {},
   "outputs": [
    {
     "data": {
      "text/plain": [
       "dict"
      ]
     },
     "execution_count": 4,
     "metadata": {},
     "output_type": "execute_result"
    }
   ],
   "source": [
    "result = json.loads(obj)\n",
    "type(result)"
   ]
  },
  {
   "cell_type": "code",
   "execution_count": 14,
   "metadata": {},
   "outputs": [
    {
     "data": {
      "text/html": [
       "<div>\n",
       "<style scoped>\n",
       "    .dataframe tbody tr th:only-of-type {\n",
       "        vertical-align: middle;\n",
       "    }\n",
       "\n",
       "    .dataframe tbody tr th {\n",
       "        vertical-align: top;\n",
       "    }\n",
       "\n",
       "    .dataframe thead th {\n",
       "        text-align: right;\n",
       "    }\n",
       "</style>\n",
       "<table border=\"1\" class=\"dataframe\">\n",
       "  <thead>\n",
       "    <tr style=\"text-align: right;\">\n",
       "      <th></th>\n",
       "      <th>0</th>\n",
       "      <th>1</th>\n",
       "      <th>2</th>\n",
       "      <th>3</th>\n",
       "      <th>4</th>\n",
       "      <th>5</th>\n",
       "      <th>6</th>\n",
       "    </tr>\n",
       "  </thead>\n",
       "  <tbody>\n",
       "    <tr>\n",
       "      <th>Sunday</th>\n",
       "      <td>0.0</td>\n",
       "      <td>NaN</td>\n",
       "      <td>NaN</td>\n",
       "      <td>NaN</td>\n",
       "      <td>NaN</td>\n",
       "      <td>NaN</td>\n",
       "      <td>NaN</td>\n",
       "    </tr>\n",
       "    <tr>\n",
       "      <th>Monday</th>\n",
       "      <td>NaN</td>\n",
       "      <td>1.0</td>\n",
       "      <td>NaN</td>\n",
       "      <td>NaN</td>\n",
       "      <td>NaN</td>\n",
       "      <td>NaN</td>\n",
       "      <td>NaN</td>\n",
       "    </tr>\n",
       "    <tr>\n",
       "      <th>Tuesday</th>\n",
       "      <td>NaN</td>\n",
       "      <td>NaN</td>\n",
       "      <td>2.0</td>\n",
       "      <td>NaN</td>\n",
       "      <td>NaN</td>\n",
       "      <td>NaN</td>\n",
       "      <td>NaN</td>\n",
       "    </tr>\n",
       "    <tr>\n",
       "      <th>Wednesday</th>\n",
       "      <td>NaN</td>\n",
       "      <td>NaN</td>\n",
       "      <td>NaN</td>\n",
       "      <td>3.0</td>\n",
       "      <td>NaN</td>\n",
       "      <td>NaN</td>\n",
       "      <td>NaN</td>\n",
       "    </tr>\n",
       "    <tr>\n",
       "      <th>Thursday</th>\n",
       "      <td>NaN</td>\n",
       "      <td>NaN</td>\n",
       "      <td>NaN</td>\n",
       "      <td>NaN</td>\n",
       "      <td>4.0</td>\n",
       "      <td>NaN</td>\n",
       "      <td>NaN</td>\n",
       "    </tr>\n",
       "    <tr>\n",
       "      <th>Friday</th>\n",
       "      <td>NaN</td>\n",
       "      <td>NaN</td>\n",
       "      <td>NaN</td>\n",
       "      <td>NaN</td>\n",
       "      <td>NaN</td>\n",
       "      <td>5.0</td>\n",
       "      <td>NaN</td>\n",
       "    </tr>\n",
       "    <tr>\n",
       "      <th>Saturday</th>\n",
       "      <td>NaN</td>\n",
       "      <td>NaN</td>\n",
       "      <td>NaN</td>\n",
       "      <td>NaN</td>\n",
       "      <td>NaN</td>\n",
       "      <td>NaN</td>\n",
       "      <td>6.0</td>\n",
       "    </tr>\n",
       "  </tbody>\n",
       "</table>\n",
       "</div>"
      ],
      "text/plain": [
       "             0    1    2    3    4    5    6\n",
       "Sunday     0.0  NaN  NaN  NaN  NaN  NaN  NaN\n",
       "Monday     NaN  1.0  NaN  NaN  NaN  NaN  NaN\n",
       "Tuesday    NaN  NaN  2.0  NaN  NaN  NaN  NaN\n",
       "Wednesday  NaN  NaN  NaN  3.0  NaN  NaN  NaN\n",
       "Thursday   NaN  NaN  NaN  NaN  4.0  NaN  NaN\n",
       "Friday     NaN  NaN  NaN  NaN  NaN  5.0  NaN\n",
       "Saturday   NaN  NaN  NaN  NaN  NaN  NaN  6.0"
      ]
     },
     "execution_count": 14,
     "metadata": {},
     "output_type": "execute_result"
    }
   ],
   "source": [
    "df6 = pd.DataFrame(result['dayOfWeek']).T\n",
    "df6"
   ]
  },
  {
   "cell_type": "markdown",
   "metadata": {},
   "source": [
    "# Getting Data using API"
   ]
  },
  {
   "cell_type": "code",
   "execution_count": 15,
   "metadata": {},
   "outputs": [],
   "source": [
    "import urllib.request"
   ]
  },
  {
   "cell_type": "markdown",
   "metadata": {},
   "source": [
    "&type=json"
   ]
  },
  {
   "cell_type": "code",
   "execution_count": 18,
   "metadata": {},
   "outputs": [],
   "source": [
    "url = \"http://apis.data.go.kr/B553077/api/open/sdsc/storeZoneOne?key=573&ServiceKey=zUsap7I%2BSXPwfCt3zHKg0jwPW2gxxSTqSRvwqt0STgw8OwtHAUbkzsWo5azP3P0pv%2Bt9UoGBBEbfhthnMWU9dA%3D%3D&type=json\"\n",
    "\n",
    "response = urllib.request.urlopen(url)\n",
    "json_str = response.read().decode('utf-8')"
   ]
  },
  {
   "cell_type": "code",
   "execution_count": 19,
   "metadata": {},
   "outputs": [
    {
     "data": {
      "text/plain": [
       "'{\\n\\t\"header\" : {\\n\\t\\t\"description\" : \"소상공인시장진흥공단 주요상권\"\\n\\t\\t,\"columns\" : [\"상권번호\",\"상권명\",\"시도코드\",\"시도명\",\"시군구코드\",\"시군구명\",\"상권면적\",\"좌표개수\",\"좌표값\",\"데이터기준일자\"]\\n\\t\\t,\"resultCode\" : \"00\"\\n\\t\\t,\"resultMsg\" : \"NORMAL SERVICE\"\\n\\t},\\n\\t\"body\" : {\\n\\t\\t\\t\"items\" : [\\n\\t\\t\\t\\t{\\n\\t\\t\\t\\t\"trarNo\" : 573\\n\\t\\t\\t\\t,\"mainTrarNm\" : \"부산 금정구 구서동역\"\\n\\t\\t\\t\\t,\"ctprvnCd\" : \"26\"\\n\\t\\t\\t\\t,\"ctprvnNm\" : \"부산광역시\"\\n\\t\\t\\t\\t,\"signguCd\" : \"26410\"\\n\\t\\t\\t\\t,\"signguNm\" : \"금정구\"\\n\\t\\t\\t\\t,\"trarArea\" : 66080.5\\n\\t\\t\\t\\t,\"coordNum\" : 16\\n\\t\\t\\t\\t,\"coords\" : \"POLYGON ((129.09092 35.248544, 129.090527 35.248755, 129.089265 35.248054, 129.089212 35.247334, 129.088914 35.247291, 129.088755 35.24522, 129.089828 35.244913, 129.08994 35.246723, 129.091246 35.246667, 129.091377 35.246602, 129.091466 35.247503, 129.091906 35.247535, 129.092248 35.247604, 129.091985 35.248508, 129.091776 35.248483, 129.09092 35.248544))\"\\n\\t\\t\\t\\t,\"stdrDt\" : \"2015-12-17\"\\n\\t\\t\\t\\t}\\n\\t\\t\\t]\\n\\t}\\n}\\n'"
      ]
     },
     "execution_count": 19,
     "metadata": {},
     "output_type": "execute_result"
    }
   ],
   "source": [
    "json_str"
   ]
  },
  {
   "cell_type": "code",
   "execution_count": 20,
   "metadata": {},
   "outputs": [
    {
     "data": {
      "text/plain": [
       "{'header': {'description': '소상공인시장진흥공단 주요상권',\n",
       "  'columns': ['상권번호',\n",
       "   '상권명',\n",
       "   '시도코드',\n",
       "   '시도명',\n",
       "   '시군구코드',\n",
       "   '시군구명',\n",
       "   '상권면적',\n",
       "   '좌표개수',\n",
       "   '좌표값',\n",
       "   '데이터기준일자'],\n",
       "  'resultCode': '00',\n",
       "  'resultMsg': 'NORMAL SERVICE'},\n",
       " 'body': {'items': [{'trarNo': 573,\n",
       "    'mainTrarNm': '부산 금정구 구서동역',\n",
       "    'ctprvnCd': '26',\n",
       "    'ctprvnNm': '부산광역시',\n",
       "    'signguCd': '26410',\n",
       "    'signguNm': '금정구',\n",
       "    'trarArea': 66080.5,\n",
       "    'coordNum': 16,\n",
       "    'coords': 'POLYGON ((129.09092 35.248544, 129.090527 35.248755, 129.089265 35.248054, 129.089212 35.247334, 129.088914 35.247291, 129.088755 35.24522, 129.089828 35.244913, 129.08994 35.246723, 129.091246 35.246667, 129.091377 35.246602, 129.091466 35.247503, 129.091906 35.247535, 129.092248 35.247604, 129.091985 35.248508, 129.091776 35.248483, 129.09092 35.248544))',\n",
       "    'stdrDt': '2015-12-17'}]}}"
      ]
     },
     "execution_count": 20,
     "metadata": {},
     "output_type": "execute_result"
    }
   ],
   "source": [
    "json_object = json.loads(json_str)\n",
    "json_object"
   ]
  },
  {
   "cell_type": "code",
   "execution_count": 21,
   "metadata": {
    "scrolled": true
   },
   "outputs": [
    {
     "data": {
      "text/plain": [
       "[[{'trarNo': 573,\n",
       "   'mainTrarNm': '부산 금정구 구서동역',\n",
       "   'ctprvnCd': '26',\n",
       "   'ctprvnNm': '부산광역시',\n",
       "   'signguCd': '26410',\n",
       "   'signguNm': '금정구',\n",
       "   'trarArea': 66080.5,\n",
       "   'coordNum': 16,\n",
       "   'coords': 'POLYGON ((129.09092 35.248544, 129.090527 35.248755, 129.089265 35.248054, 129.089212 35.247334, 129.088914 35.247291, 129.088755 35.24522, 129.089828 35.244913, 129.08994 35.246723, 129.091246 35.246667, 129.091377 35.246602, 129.091466 35.247503, 129.091906 35.247535, 129.092248 35.247604, 129.091985 35.248508, 129.091776 35.248483, 129.09092 35.248544))',\n",
       "   'stdrDt': '2015-12-17'}]]"
      ]
     },
     "execution_count": 21,
     "metadata": {},
     "output_type": "execute_result"
    }
   ],
   "source": [
    "body = [json_object['body']['items']]\n",
    "body"
   ]
  },
  {
   "cell_type": "code",
   "execution_count": 22,
   "metadata": {},
   "outputs": [],
   "source": [
    "from pandas.io.json import json_normalize"
   ]
  },
  {
   "cell_type": "code",
   "execution_count": 24,
   "metadata": {},
   "outputs": [
    {
     "data": {
      "text/html": [
       "<div>\n",
       "<style scoped>\n",
       "    .dataframe tbody tr th:only-of-type {\n",
       "        vertical-align: middle;\n",
       "    }\n",
       "\n",
       "    .dataframe tbody tr th {\n",
       "        vertical-align: top;\n",
       "    }\n",
       "\n",
       "    .dataframe thead th {\n",
       "        text-align: right;\n",
       "    }\n",
       "</style>\n",
       "<table border=\"1\" class=\"dataframe\">\n",
       "  <thead>\n",
       "    <tr style=\"text-align: right;\">\n",
       "      <th></th>\n",
       "      <th>trarNo</th>\n",
       "      <th>mainTrarNm</th>\n",
       "      <th>ctprvnCd</th>\n",
       "      <th>ctprvnNm</th>\n",
       "      <th>signguCd</th>\n",
       "      <th>signguNm</th>\n",
       "      <th>trarArea</th>\n",
       "      <th>coordNum</th>\n",
       "      <th>coords</th>\n",
       "      <th>stdrDt</th>\n",
       "    </tr>\n",
       "  </thead>\n",
       "  <tbody>\n",
       "    <tr>\n",
       "      <th>0</th>\n",
       "      <td>573</td>\n",
       "      <td>부산 금정구 구서동역</td>\n",
       "      <td>26</td>\n",
       "      <td>부산광역시</td>\n",
       "      <td>26410</td>\n",
       "      <td>금정구</td>\n",
       "      <td>66080.5</td>\n",
       "      <td>16</td>\n",
       "      <td>POLYGON ((129.09092 35.248544, 129.090527 35.2...</td>\n",
       "      <td>2015-12-17</td>\n",
       "    </tr>\n",
       "  </tbody>\n",
       "</table>\n",
       "</div>"
      ],
      "text/plain": [
       "   trarNo   mainTrarNm ctprvnCd ctprvnNm signguCd signguNm  trarArea  \\\n",
       "0     573  부산 금정구 구서동역       26    부산광역시    26410      금정구   66080.5   \n",
       "\n",
       "   coordNum                                             coords      stdrDt  \n",
       "0        16  POLYGON ((129.09092 35.248544, 129.090527 35.2...  2015-12-17  "
      ]
     },
     "execution_count": 24,
     "metadata": {},
     "output_type": "execute_result"
    }
   ],
   "source": [
    "pd.json_normalize(json_object['body']['items'])"
   ]
  },
  {
   "cell_type": "code",
   "execution_count": 27,
   "metadata": {},
   "outputs": [],
   "source": [
    "# pip install pandas_datareader\n",
    "import pandas_datareader as pdr"
   ]
  },
  {
   "cell_type": "code",
   "execution_count": 28,
   "metadata": {},
   "outputs": [
    {
     "data": {
      "text/html": [
       "<div>\n",
       "<style scoped>\n",
       "    .dataframe tbody tr th:only-of-type {\n",
       "        vertical-align: middle;\n",
       "    }\n",
       "\n",
       "    .dataframe tbody tr th {\n",
       "        vertical-align: top;\n",
       "    }\n",
       "\n",
       "    .dataframe thead th {\n",
       "        text-align: right;\n",
       "    }\n",
       "</style>\n",
       "<table border=\"1\" class=\"dataframe\">\n",
       "  <thead>\n",
       "    <tr style=\"text-align: right;\">\n",
       "      <th></th>\n",
       "      <th>High</th>\n",
       "      <th>Low</th>\n",
       "      <th>Open</th>\n",
       "      <th>Close</th>\n",
       "      <th>Volume</th>\n",
       "      <th>Adj Close</th>\n",
       "    </tr>\n",
       "    <tr>\n",
       "      <th>Date</th>\n",
       "      <th></th>\n",
       "      <th></th>\n",
       "      <th></th>\n",
       "      <th></th>\n",
       "      <th></th>\n",
       "      <th></th>\n",
       "    </tr>\n",
       "  </thead>\n",
       "  <tbody>\n",
       "    <tr>\n",
       "      <th>2016-05-02</th>\n",
       "      <td>25240.0</td>\n",
       "      <td>24900.0</td>\n",
       "      <td>24940.0</td>\n",
       "      <td>25000.0</td>\n",
       "      <td>7027600.0</td>\n",
       "      <td>21737.931641</td>\n",
       "    </tr>\n",
       "    <tr>\n",
       "      <th>2016-05-03</th>\n",
       "      <td>25400.0</td>\n",
       "      <td>25120.0</td>\n",
       "      <td>25340.0</td>\n",
       "      <td>25220.0</td>\n",
       "      <td>7903300.0</td>\n",
       "      <td>21929.228516</td>\n",
       "    </tr>\n",
       "    <tr>\n",
       "      <th>2016-05-04</th>\n",
       "      <td>25800.0</td>\n",
       "      <td>25240.0</td>\n",
       "      <td>25440.0</td>\n",
       "      <td>25800.0</td>\n",
       "      <td>14702750.0</td>\n",
       "      <td>22433.542969</td>\n",
       "    </tr>\n",
       "    <tr>\n",
       "      <th>2016-05-09</th>\n",
       "      <td>26000.0</td>\n",
       "      <td>25700.0</td>\n",
       "      <td>25800.0</td>\n",
       "      <td>25980.0</td>\n",
       "      <td>13718100.0</td>\n",
       "      <td>22590.060547</td>\n",
       "    </tr>\n",
       "    <tr>\n",
       "      <th>2016-05-10</th>\n",
       "      <td>26000.0</td>\n",
       "      <td>25760.0</td>\n",
       "      <td>25980.0</td>\n",
       "      <td>25920.0</td>\n",
       "      <td>8559550.0</td>\n",
       "      <td>22537.888672</td>\n",
       "    </tr>\n",
       "    <tr>\n",
       "      <th>...</th>\n",
       "      <td>...</td>\n",
       "      <td>...</td>\n",
       "      <td>...</td>\n",
       "      <td>...</td>\n",
       "      <td>...</td>\n",
       "      <td>...</td>\n",
       "    </tr>\n",
       "    <tr>\n",
       "      <th>2021-04-23</th>\n",
       "      <td>82900.0</td>\n",
       "      <td>81600.0</td>\n",
       "      <td>81900.0</td>\n",
       "      <td>82800.0</td>\n",
       "      <td>17805080.0</td>\n",
       "      <td>82800.000000</td>\n",
       "    </tr>\n",
       "    <tr>\n",
       "      <th>2021-04-26</th>\n",
       "      <td>83500.0</td>\n",
       "      <td>82600.0</td>\n",
       "      <td>82900.0</td>\n",
       "      <td>83500.0</td>\n",
       "      <td>15489938.0</td>\n",
       "      <td>83500.000000</td>\n",
       "    </tr>\n",
       "    <tr>\n",
       "      <th>2021-04-27</th>\n",
       "      <td>83300.0</td>\n",
       "      <td>82500.0</td>\n",
       "      <td>83200.0</td>\n",
       "      <td>82900.0</td>\n",
       "      <td>12941533.0</td>\n",
       "      <td>82900.000000</td>\n",
       "    </tr>\n",
       "    <tr>\n",
       "      <th>2021-04-28</th>\n",
       "      <td>83200.0</td>\n",
       "      <td>82100.0</td>\n",
       "      <td>83200.0</td>\n",
       "      <td>82100.0</td>\n",
       "      <td>15596759.0</td>\n",
       "      <td>82100.000000</td>\n",
       "    </tr>\n",
       "    <tr>\n",
       "      <th>2021-04-29</th>\n",
       "      <td>82500.0</td>\n",
       "      <td>81500.0</td>\n",
       "      <td>82400.0</td>\n",
       "      <td>81700.0</td>\n",
       "      <td>19904834.0</td>\n",
       "      <td>81700.000000</td>\n",
       "    </tr>\n",
       "  </tbody>\n",
       "</table>\n",
       "<p>1221 rows × 6 columns</p>\n",
       "</div>"
      ],
      "text/plain": [
       "               High      Low     Open    Close      Volume     Adj Close\n",
       "Date                                                                    \n",
       "2016-05-02  25240.0  24900.0  24940.0  25000.0   7027600.0  21737.931641\n",
       "2016-05-03  25400.0  25120.0  25340.0  25220.0   7903300.0  21929.228516\n",
       "2016-05-04  25800.0  25240.0  25440.0  25800.0  14702750.0  22433.542969\n",
       "2016-05-09  26000.0  25700.0  25800.0  25980.0  13718100.0  22590.060547\n",
       "2016-05-10  26000.0  25760.0  25980.0  25920.0   8559550.0  22537.888672\n",
       "...             ...      ...      ...      ...         ...           ...\n",
       "2021-04-23  82900.0  81600.0  81900.0  82800.0  17805080.0  82800.000000\n",
       "2021-04-26  83500.0  82600.0  82900.0  83500.0  15489938.0  83500.000000\n",
       "2021-04-27  83300.0  82500.0  83200.0  82900.0  12941533.0  82900.000000\n",
       "2021-04-28  83200.0  82100.0  83200.0  82100.0  15596759.0  82100.000000\n",
       "2021-04-29  82500.0  81500.0  82400.0  81700.0  19904834.0  81700.000000\n",
       "\n",
       "[1221 rows x 6 columns]"
      ]
     },
     "execution_count": 28,
     "metadata": {},
     "output_type": "execute_result"
    }
   ],
   "source": [
    "df = pdr.get_data_yahoo('005930.KS')     # 삼성전자 주가 읽어오기\n",
    "df"
   ]
  },
  {
   "cell_type": "code",
   "execution_count": 29,
   "metadata": {},
   "outputs": [
    {
     "data": {
      "text/plain": [
       "<AxesSubplot:xlabel='Date'>"
      ]
     },
     "execution_count": 29,
     "metadata": {},
     "output_type": "execute_result"
    },
    {
     "data": {
      "image/png": "[encoded data removed]",
      "text/plain": [
       "<Figure size 432x288 with 1 Axes>"
      ]
     },
     "metadata": {
      "needs_background": "light"
     },
     "output_type": "display_data"
    }
   ],
   "source": [
    "df['Close'].plot()"
   ]
  },
  {
   "cell_type": "code",
   "execution_count": 30,
   "metadata": {},
   "outputs": [
    {
     "data": {
      "text/html": [
       "<div>\n",
       "<style scoped>\n",
       "    .dataframe tbody tr th:only-of-type {\n",
       "        vertical-align: middle;\n",
       "    }\n",
       "\n",
       "    .dataframe tbody tr th {\n",
       "        vertical-align: top;\n",
       "    }\n",
       "\n",
       "    .dataframe thead th {\n",
       "        text-align: right;\n",
       "    }\n",
       "</style>\n",
       "<table border=\"1\" class=\"dataframe\">\n",
       "  <thead>\n",
       "    <tr style=\"text-align: right;\">\n",
       "      <th></th>\n",
       "      <th>High</th>\n",
       "      <th>Low</th>\n",
       "      <th>Open</th>\n",
       "      <th>Close</th>\n",
       "      <th>Volume</th>\n",
       "      <th>Adj Close</th>\n",
       "    </tr>\n",
       "    <tr>\n",
       "      <th>Date</th>\n",
       "      <th></th>\n",
       "      <th></th>\n",
       "      <th></th>\n",
       "      <th></th>\n",
       "      <th></th>\n",
       "      <th></th>\n",
       "    </tr>\n",
       "  </thead>\n",
       "  <tbody>\n",
       "    <tr>\n",
       "      <th>2016-05-02</th>\n",
       "      <td>136000.0</td>\n",
       "      <td>133400.0</td>\n",
       "      <td>135800.0</td>\n",
       "      <td>135600.0</td>\n",
       "      <td>288895.0</td>\n",
       "      <td>134347.312500</td>\n",
       "    </tr>\n",
       "    <tr>\n",
       "      <th>2016-05-03</th>\n",
       "      <td>136400.0</td>\n",
       "      <td>135000.0</td>\n",
       "      <td>136400.0</td>\n",
       "      <td>135200.0</td>\n",
       "      <td>343900.0</td>\n",
       "      <td>133951.015625</td>\n",
       "    </tr>\n",
       "    <tr>\n",
       "      <th>2016-05-04</th>\n",
       "      <td>136600.0</td>\n",
       "      <td>134000.0</td>\n",
       "      <td>135800.0</td>\n",
       "      <td>136000.0</td>\n",
       "      <td>697250.0</td>\n",
       "      <td>134743.625000</td>\n",
       "    </tr>\n",
       "    <tr>\n",
       "      <th>2016-05-09</th>\n",
       "      <td>141000.0</td>\n",
       "      <td>137400.0</td>\n",
       "      <td>139800.0</td>\n",
       "      <td>140000.0</td>\n",
       "      <td>925425.0</td>\n",
       "      <td>138706.687500</td>\n",
       "    </tr>\n",
       "    <tr>\n",
       "      <th>2016-05-10</th>\n",
       "      <td>142800.0</td>\n",
       "      <td>139000.0</td>\n",
       "      <td>141600.0</td>\n",
       "      <td>141400.0</td>\n",
       "      <td>532275.0</td>\n",
       "      <td>140093.718750</td>\n",
       "    </tr>\n",
       "    <tr>\n",
       "      <th>...</th>\n",
       "      <td>...</td>\n",
       "      <td>...</td>\n",
       "      <td>...</td>\n",
       "      <td>...</td>\n",
       "      <td>...</td>\n",
       "      <td>...</td>\n",
       "    </tr>\n",
       "    <tr>\n",
       "      <th>2021-04-23</th>\n",
       "      <td>379500.0</td>\n",
       "      <td>374000.0</td>\n",
       "      <td>377500.0</td>\n",
       "      <td>378000.0</td>\n",
       "      <td>505140.0</td>\n",
       "      <td>378000.000000</td>\n",
       "    </tr>\n",
       "    <tr>\n",
       "      <th>2021-04-26</th>\n",
       "      <td>379000.0</td>\n",
       "      <td>374500.0</td>\n",
       "      <td>376500.0</td>\n",
       "      <td>377500.0</td>\n",
       "      <td>484369.0</td>\n",
       "      <td>377500.000000</td>\n",
       "    </tr>\n",
       "    <tr>\n",
       "      <th>2021-04-27</th>\n",
       "      <td>381500.0</td>\n",
       "      <td>376000.0</td>\n",
       "      <td>378000.0</td>\n",
       "      <td>380000.0</td>\n",
       "      <td>392509.0</td>\n",
       "      <td>380000.000000</td>\n",
       "    </tr>\n",
       "    <tr>\n",
       "      <th>2021-04-28</th>\n",
       "      <td>382000.0</td>\n",
       "      <td>373000.0</td>\n",
       "      <td>381500.0</td>\n",
       "      <td>373500.0</td>\n",
       "      <td>485971.0</td>\n",
       "      <td>373500.000000</td>\n",
       "    </tr>\n",
       "    <tr>\n",
       "      <th>2021-04-29</th>\n",
       "      <td>377500.0</td>\n",
       "      <td>366000.0</td>\n",
       "      <td>373500.0</td>\n",
       "      <td>366500.0</td>\n",
       "      <td>738425.0</td>\n",
       "      <td>366500.000000</td>\n",
       "    </tr>\n",
       "  </tbody>\n",
       "</table>\n",
       "<p>1221 rows × 6 columns</p>\n",
       "</div>"
      ],
      "text/plain": [
       "                High       Low      Open     Close    Volume      Adj Close\n",
       "Date                                                                       \n",
       "2016-05-02  136000.0  133400.0  135800.0  135600.0  288895.0  134347.312500\n",
       "2016-05-03  136400.0  135000.0  136400.0  135200.0  343900.0  133951.015625\n",
       "2016-05-04  136600.0  134000.0  135800.0  136000.0  697250.0  134743.625000\n",
       "2016-05-09  141000.0  137400.0  139800.0  140000.0  925425.0  138706.687500\n",
       "2016-05-10  142800.0  139000.0  141600.0  141400.0  532275.0  140093.718750\n",
       "...              ...       ...       ...       ...       ...            ...\n",
       "2021-04-23  379500.0  374000.0  377500.0  378000.0  505140.0  378000.000000\n",
       "2021-04-26  379000.0  374500.0  376500.0  377500.0  484369.0  377500.000000\n",
       "2021-04-27  381500.0  376000.0  378000.0  380000.0  392509.0  380000.000000\n",
       "2021-04-28  382000.0  373000.0  381500.0  373500.0  485971.0  373500.000000\n",
       "2021-04-29  377500.0  366000.0  373500.0  366500.0  738425.0  366500.000000\n",
       "\n",
       "[1221 rows x 6 columns]"
      ]
     },
     "execution_count": 30,
     "metadata": {},
     "output_type": "execute_result"
    }
   ],
   "source": [
    "df2 = pdr.get_data_yahoo('035420.KS')      # 네이버 주가 읽어오기\n",
    "df2"
   ]
  },
  {
   "cell_type": "code",
   "execution_count": 32,
   "metadata": {},
   "outputs": [
    {
     "data": {
      "text/plain": [
       "<AxesSubplot:xlabel='Date'>"
      ]
     },
     "execution_count": 32,
     "metadata": {},
     "output_type": "execute_result"
    },
    {
     "data": {
      "image/png": "[encoded data removed]",
      "text/plain": [
       "<Figure size 432x288 with 1 Axes>"
      ]
     },
     "metadata": {
      "needs_background": "light"
     },
     "output_type": "display_data"
    }
   ],
   "source": [
    "df2['Close'].plot()"
   ]
  },
  {
   "cell_type": "code",
   "execution_count": 33,
   "metadata": {},
   "outputs": [
    {
     "data": {
      "text/plain": [
       "<AxesSubplot:xlabel='Date'>"
      ]
     },
     "execution_count": 33,
     "metadata": {},
     "output_type": "execute_result"
    },
    {
     "data": {
      "image/png": "[encoded data removed]",
      "text/plain": [
       "<Figure size 432x288 with 1 Axes>"
      ]
     },
     "metadata": {
      "needs_background": "light"
     },
     "output_type": "display_data"
    }
   ],
   "source": [
    "df['Close'].plot()\n",
    "df2['Close'].plot()"
   ]
  }
 ],
 "metadata": {
  "kernelspec": {
   "display_name": "Python 3",
   "language": "python",
   "name": "python3"
  },
  "language_info": {
   "codemirror_mode": {
    "name": "ipython",
    "version": 3
   },
   "file_extension": ".py",
   "mimetype": "text/x-python",
   "name": "python",
   "nbconvert_exporter": "python",
   "pygments_lexer": "ipython3",
   "version": "3.8.5"
  }
 },
 "nbformat": 4,
 "nbformat_minor": 4
}
